{
 "cells": [
  {
   "cell_type": "markdown",
   "metadata": {},
   "source": [
    "# Asignment 1\n",
    "\n",
    "# Bresenham's Line Drawing Algorithm\n",
    "\n",
    "This algorithm is used to draw a line between two points on a grid. This is very optimized for the following reasons:\n",
    "- It does not do floating point operation\n",
    "- it does not do division or multiplication\n",
    "- it do not round the values"
   ]
  },
  {
   "cell_type": "code",
   "execution_count": 2,
   "metadata": {},
   "outputs": [],
   "source": [
    "# importing neccessary libraries\n",
    "\n",
    "import matplotlib.pyplot as plt\n",
    "import numpy as np"
   ]
  },
  {
   "cell_type": "code",
   "execution_count": 3,
   "metadata": {},
   "outputs": [],
   "source": [
    "# creating an empty list of x and y coordinates\n",
    "x = []\n",
    "y = []"
   ]
  },
  {
   "cell_type": "code",
   "execution_count": null,
   "metadata": {},
   "outputs": [],
   "source": [
    "def plot_points(x, y):\n",
    "    # Calculate grid dimensions\n",
    "    n = max(x) + 1\n",
    "    m = max(y) + 1\n",
    "\n",
    "    # Create a grid\n",
    "    grid = np.zeros((n, m))\n",
    "\n",
    "    # Fill the cells corresponding to (x, y) coordinates\n",
    "    for xi, yi in zip(x, y):\n",
    "        grid[xi, yi] = 1\n",
    "\n",
    "    # Plot the grid\n",
    "    plt.imshow(grid, cmap='Blues', origin='lower', extent=[0, m, 0, n], alpha=0.7)\n",
    "\n",
    "    # Adding labels and title\n",
    "    plt.xlabel('Y-axis')\n",
    "    plt.ylabel('X-axis')\n",
    "    plt.title('Grid with Filled Cells at (X, Y) Coordinates')\n",
    "\n",
    "    # Adding grid\n",
    "    plt.grid(True, color='black', linewidth=1, linestyle='--')\n",
    "\n",
    "    # Show the plot\n",
    "    plt.show()"
   ]
  },
  {
   "cell_type": "markdown",
   "metadata": {},
   "source": [
    "### Defining the bresenham's algo"
   ]
  },
  {
   "cell_type": "code",
   "execution_count": 6,
   "metadata": {},
   "outputs": [],
   "source": [
    "def bresenhams_line(x1, y1, x2, y2):\n",
    "\n",
    "    # calculating the difference between the two points\n",
    "    dx = x2 - x1\n",
    "    dy = y2 - y1\n",
    "\n",
    "    d = 2*dy - dx\n",
    "    dE = 2*dy\n",
    "    dNE = 2*(dy - dx)\n",
    "\n",
    "    # appending the first point to the list\n",
    "    x.append(x1)\n",
    "    y.append(y1)\n",
    "\n",
    "    yk = y1\n",
    "\n",
    "    for xk in range(x1, x2):\n",
    "        if d < 0:\n",
    "            d = d + dE\n",
    "        else:\n",
    "            d = d + dNE\n",
    "            yk = yk + 1\n",
    "\n",
    "        # appending the points to the list\n",
    "        x.append(xk+1)\n",
    "        y.append(yk)\n",
    "\n",
    "    # plotting the points\n",
    "    plot_points(x, y)\n",
    "    "
   ]
  },
  {
   "cell_type": "code",
   "execution_count": 8,
   "metadata": {},
   "outputs": [
    {
     "data": {
      "image/png": "[encoded data removed]",
      "text/plain": [
       "<Figure size 640x480 with 1 Axes>"
      ]
     },
     "metadata": {},
     "output_type": "display_data"
    }
   ],
   "source": [
    "br_line = bresenhams_line(2, 3, 100, 80)"
   ]
  }
 ],
 "metadata": {
  "kernelspec": {
   "display_name": "Python 3",
   "language": "python",
   "name": "python3"
  },
  "language_info": {
   "codemirror_mode": {
    "name": "ipython",
    "version": 3
   },
   "file_extension": ".py",
   "mimetype": "text/x-python",
   "name": "python",
   "nbconvert_exporter": "python",
   "pygments_lexer": "ipython3",
   "version": "3.12.0"
  }
 },
 "nbformat": 4,
 "nbformat_minor": 2
}
